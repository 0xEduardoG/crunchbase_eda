{
 "cells": [
  {
   "cell_type": "code",
   "execution_count": 1,
   "id": "c45e0b8b-4acd-4044-b94f-33854a1c34f9",
   "metadata": {},
   "outputs": [],
   "source": [
    "import pandas as pd\n",
    "import matplotlib.pyplot as plt\n",
    "import numpy as np\n",
    "import seaborn as sns"
   ]
  },
  {
   "cell_type": "code",
   "execution_count": 55,
   "id": "ae432604-a59d-4164-a4d9-c51fca11550c",
   "metadata": {},
   "outputs": [
    {
     "data": {
      "text/html": [
       "<div>\n",
       "<style scoped>\n",
       "    .dataframe tbody tr th:only-of-type {\n",
       "        vertical-align: middle;\n",
       "    }\n",
       "\n",
       "    .dataframe tbody tr th {\n",
       "        vertical-align: top;\n",
       "    }\n",
       "\n",
       "    .dataframe thead th {\n",
       "        text-align: right;\n",
       "    }\n",
       "</style>\n",
       "<table border=\"1\" class=\"dataframe\">\n",
       "  <thead>\n",
       "    <tr style=\"text-align: right;\">\n",
       "      <th></th>\n",
       "      <th>permalink</th>\n",
       "      <th>name</th>\n",
       "      <th>homepage_url</th>\n",
       "      <th>category_list</th>\n",
       "      <th>market</th>\n",
       "      <th>funding_total_usd</th>\n",
       "      <th>status</th>\n",
       "      <th>country_code</th>\n",
       "      <th>state_code</th>\n",
       "      <th>region</th>\n",
       "      <th>...</th>\n",
       "      <th>secondary_market</th>\n",
       "      <th>product_crowdfunding</th>\n",
       "      <th>round_A</th>\n",
       "      <th>round_B</th>\n",
       "      <th>round_C</th>\n",
       "      <th>round_D</th>\n",
       "      <th>round_E</th>\n",
       "      <th>round_F</th>\n",
       "      <th>round_G</th>\n",
       "      <th>round_H</th>\n",
       "    </tr>\n",
       "  </thead>\n",
       "  <tbody>\n",
       "    <tr>\n",
       "      <th>0</th>\n",
       "      <td>/organization/waywire</td>\n",
       "      <td>#waywire</td>\n",
       "      <td>http://www.waywire.com</td>\n",
       "      <td>|Entertainment|Politics|Social Media|News|</td>\n",
       "      <td>News</td>\n",
       "      <td>17,50,000</td>\n",
       "      <td>acquired</td>\n",
       "      <td>USA</td>\n",
       "      <td>NY</td>\n",
       "      <td>New York City</td>\n",
       "      <td>...</td>\n",
       "      <td>0.0</td>\n",
       "      <td>0.0</td>\n",
       "      <td>0.0</td>\n",
       "      <td>0.0</td>\n",
       "      <td>0.0</td>\n",
       "      <td>0.0</td>\n",
       "      <td>0.0</td>\n",
       "      <td>0.0</td>\n",
       "      <td>0.0</td>\n",
       "      <td>0.0</td>\n",
       "    </tr>\n",
       "    <tr>\n",
       "      <th>1</th>\n",
       "      <td>/organization/tv-communications</td>\n",
       "      <td>&amp;TV Communications</td>\n",
       "      <td>http://enjoyandtv.com</td>\n",
       "      <td>|Games|</td>\n",
       "      <td>Games</td>\n",
       "      <td>40,00,000</td>\n",
       "      <td>operating</td>\n",
       "      <td>USA</td>\n",
       "      <td>CA</td>\n",
       "      <td>Los Angeles</td>\n",
       "      <td>...</td>\n",
       "      <td>0.0</td>\n",
       "      <td>0.0</td>\n",
       "      <td>0.0</td>\n",
       "      <td>0.0</td>\n",
       "      <td>0.0</td>\n",
       "      <td>0.0</td>\n",
       "      <td>0.0</td>\n",
       "      <td>0.0</td>\n",
       "      <td>0.0</td>\n",
       "      <td>0.0</td>\n",
       "    </tr>\n",
       "    <tr>\n",
       "      <th>2</th>\n",
       "      <td>/organization/rock-your-paper</td>\n",
       "      <td>'Rock' Your Paper</td>\n",
       "      <td>http://www.rockyourpaper.org</td>\n",
       "      <td>|Publishing|Education|</td>\n",
       "      <td>Publishing</td>\n",
       "      <td>40,000</td>\n",
       "      <td>operating</td>\n",
       "      <td>EST</td>\n",
       "      <td>NaN</td>\n",
       "      <td>Tallinn</td>\n",
       "      <td>...</td>\n",
       "      <td>0.0</td>\n",
       "      <td>0.0</td>\n",
       "      <td>0.0</td>\n",
       "      <td>0.0</td>\n",
       "      <td>0.0</td>\n",
       "      <td>0.0</td>\n",
       "      <td>0.0</td>\n",
       "      <td>0.0</td>\n",
       "      <td>0.0</td>\n",
       "      <td>0.0</td>\n",
       "    </tr>\n",
       "    <tr>\n",
       "      <th>3</th>\n",
       "      <td>/organization/in-touch-network</td>\n",
       "      <td>(In)Touch Network</td>\n",
       "      <td>http://www.InTouchNetwork.com</td>\n",
       "      <td>|Electronics|Guides|Coffee|Restaurants|Music|i...</td>\n",
       "      <td>Electronics</td>\n",
       "      <td>15,00,000</td>\n",
       "      <td>operating</td>\n",
       "      <td>GBR</td>\n",
       "      <td>NaN</td>\n",
       "      <td>London</td>\n",
       "      <td>...</td>\n",
       "      <td>0.0</td>\n",
       "      <td>0.0</td>\n",
       "      <td>0.0</td>\n",
       "      <td>0.0</td>\n",
       "      <td>0.0</td>\n",
       "      <td>0.0</td>\n",
       "      <td>0.0</td>\n",
       "      <td>0.0</td>\n",
       "      <td>0.0</td>\n",
       "      <td>0.0</td>\n",
       "    </tr>\n",
       "    <tr>\n",
       "      <th>4</th>\n",
       "      <td>/organization/r-ranch-and-mine</td>\n",
       "      <td>-R- Ranch and Mine</td>\n",
       "      <td>NaN</td>\n",
       "      <td>|Tourism|Entertainment|Games|</td>\n",
       "      <td>Tourism</td>\n",
       "      <td>60,000</td>\n",
       "      <td>operating</td>\n",
       "      <td>USA</td>\n",
       "      <td>TX</td>\n",
       "      <td>Dallas</td>\n",
       "      <td>...</td>\n",
       "      <td>0.0</td>\n",
       "      <td>0.0</td>\n",
       "      <td>0.0</td>\n",
       "      <td>0.0</td>\n",
       "      <td>0.0</td>\n",
       "      <td>0.0</td>\n",
       "      <td>0.0</td>\n",
       "      <td>0.0</td>\n",
       "      <td>0.0</td>\n",
       "      <td>0.0</td>\n",
       "    </tr>\n",
       "  </tbody>\n",
       "</table>\n",
       "<p>5 rows × 39 columns</p>\n",
       "</div>"
      ],
      "text/plain": [
       "                         permalink                name  \\\n",
       "0            /organization/waywire            #waywire   \n",
       "1  /organization/tv-communications  &TV Communications   \n",
       "2    /organization/rock-your-paper   'Rock' Your Paper   \n",
       "3   /organization/in-touch-network   (In)Touch Network   \n",
       "4   /organization/r-ranch-and-mine  -R- Ranch and Mine   \n",
       "\n",
       "                    homepage_url  \\\n",
       "0         http://www.waywire.com   \n",
       "1          http://enjoyandtv.com   \n",
       "2   http://www.rockyourpaper.org   \n",
       "3  http://www.InTouchNetwork.com   \n",
       "4                            NaN   \n",
       "\n",
       "                                       category_list        market   \\\n",
       "0         |Entertainment|Politics|Social Media|News|          News    \n",
       "1                                            |Games|         Games    \n",
       "2                             |Publishing|Education|    Publishing    \n",
       "3  |Electronics|Guides|Coffee|Restaurants|Music|i...   Electronics    \n",
       "4                      |Tourism|Entertainment|Games|       Tourism    \n",
       "\n",
       "   funding_total_usd      status country_code state_code         region  ...  \\\n",
       "0          17,50,000    acquired          USA         NY  New York City  ...   \n",
       "1          40,00,000   operating          USA         CA    Los Angeles  ...   \n",
       "2             40,000   operating          EST        NaN        Tallinn  ...   \n",
       "3          15,00,000   operating          GBR        NaN         London  ...   \n",
       "4             60,000   operating          USA         TX         Dallas  ...   \n",
       "\n",
       "  secondary_market  product_crowdfunding round_A round_B round_C  round_D  \\\n",
       "0              0.0                   0.0     0.0     0.0     0.0      0.0   \n",
       "1              0.0                   0.0     0.0     0.0     0.0      0.0   \n",
       "2              0.0                   0.0     0.0     0.0     0.0      0.0   \n",
       "3              0.0                   0.0     0.0     0.0     0.0      0.0   \n",
       "4              0.0                   0.0     0.0     0.0     0.0      0.0   \n",
       "\n",
       "  round_E round_F  round_G  round_H  \n",
       "0     0.0     0.0      0.0      0.0  \n",
       "1     0.0     0.0      0.0      0.0  \n",
       "2     0.0     0.0      0.0      0.0  \n",
       "3     0.0     0.0      0.0      0.0  \n",
       "4     0.0     0.0      0.0      0.0  \n",
       "\n",
       "[5 rows x 39 columns]"
      ]
     },
     "execution_count": 55,
     "metadata": {},
     "output_type": "execute_result"
    }
   ],
   "source": [
    "data = pd.read_csv('investments_VC.csv', encoding='ISO-8859-1')\n",
    "\n",
    "data.head()"
   ]
  },
  {
   "cell_type": "code",
   "execution_count": 56,
   "id": "a0b949eb-37c2-4bf8-a2aa-49cd3c5ba79b",
   "metadata": {},
   "outputs": [
    {
     "data": {
      "text/plain": [
       "Index(['permalink', 'name', 'homepage_url', 'category_list', ' market ',\n",
       "       ' funding_total_usd ', 'status', 'country_code', 'state_code', 'region',\n",
       "       'city', 'funding_rounds', 'founded_at', 'founded_month',\n",
       "       'founded_quarter', 'founded_year', 'first_funding_at',\n",
       "       'last_funding_at', 'seed', 'venture', 'equity_crowdfunding',\n",
       "       'undisclosed', 'convertible_note', 'debt_financing', 'angel', 'grant',\n",
       "       'private_equity', 'post_ipo_equity', 'post_ipo_debt',\n",
       "       'secondary_market', 'product_crowdfunding', 'round_A', 'round_B',\n",
       "       'round_C', 'round_D', 'round_E', 'round_F', 'round_G', 'round_H'],\n",
       "      dtype='object')"
      ]
     },
     "execution_count": 56,
     "metadata": {},
     "output_type": "execute_result"
    }
   ],
   "source": [
    "data.columns"
   ]
  },
  {
   "cell_type": "code",
   "execution_count": 57,
   "id": "78f2bad6-6bbd-49aa-93f5-d8056fe3b2d7",
   "metadata": {},
   "outputs": [],
   "source": [
    "data = data.rename({' market ':'market', ' funding_total_usd ':'funding_total_usd'}, axis='columns')"
   ]
  },
  {
   "cell_type": "code",
   "execution_count": 59,
   "id": "886fc907-7092-40e0-8a7d-75c9052f82a7",
   "metadata": {},
   "outputs": [
    {
     "name": "stdout",
     "output_type": "stream",
     "text": [
      "<class 'pandas.core.frame.DataFrame'>\n",
      "RangeIndex: 54294 entries, 0 to 54293\n",
      "Data columns (total 39 columns):\n",
      " #   Column                Non-Null Count  Dtype  \n",
      "---  ------                --------------  -----  \n",
      " 0   permalink             49438 non-null  object \n",
      " 1   name                  49437 non-null  object \n",
      " 2   homepage_url          45989 non-null  object \n",
      " 3   category_list         45477 non-null  object \n",
      " 4   market                45470 non-null  object \n",
      " 5   funding_total_usd     49438 non-null  object \n",
      " 6   status                48124 non-null  object \n",
      " 7   country_code          44165 non-null  object \n",
      " 8   state_code            30161 non-null  object \n",
      " 9   region                44165 non-null  object \n",
      " 10  city                  43322 non-null  object \n",
      " 11  funding_rounds        49438 non-null  float64\n",
      " 12  founded_at            38554 non-null  object \n",
      " 13  founded_month         38482 non-null  object \n",
      " 14  founded_quarter       38482 non-null  object \n",
      " 15  founded_year          38482 non-null  float64\n",
      " 16  first_funding_at      49438 non-null  object \n",
      " 17  last_funding_at       49438 non-null  object \n",
      " 18  seed                  49438 non-null  float64\n",
      " 19  venture               49438 non-null  float64\n",
      " 20  equity_crowdfunding   49438 non-null  float64\n",
      " 21  undisclosed           49438 non-null  float64\n",
      " 22  convertible_note      49438 non-null  float64\n",
      " 23  debt_financing        49438 non-null  float64\n",
      " 24  angel                 49438 non-null  float64\n",
      " 25  grant                 49438 non-null  float64\n",
      " 26  private_equity        49438 non-null  float64\n",
      " 27  post_ipo_equity       49438 non-null  float64\n",
      " 28  post_ipo_debt         49438 non-null  float64\n",
      " 29  secondary_market      49438 non-null  float64\n",
      " 30  product_crowdfunding  49438 non-null  float64\n",
      " 31  round_A               49438 non-null  float64\n",
      " 32  round_B               49438 non-null  float64\n",
      " 33  round_C               49438 non-null  float64\n",
      " 34  round_D               49438 non-null  float64\n",
      " 35  round_E               49438 non-null  float64\n",
      " 36  round_F               49438 non-null  float64\n",
      " 37  round_G               49438 non-null  float64\n",
      " 38  round_H               49438 non-null  float64\n",
      "dtypes: float64(23), object(16)\n",
      "memory usage: 16.2+ MB\n"
     ]
    }
   ],
   "source": [
    "data.info()"
   ]
  },
  {
   "cell_type": "code",
   "execution_count": 61,
   "id": "6a45224f-ae8a-4e79-8774-7da276f22b03",
   "metadata": {},
   "outputs": [],
   "source": [
    "data.funding_total_usd = data.funding_total_usd.str.replace(',','')"
   ]
  },
  {
   "cell_type": "code",
   "execution_count": 68,
   "id": "5e7675f4-0b20-4eeb-8a8d-64baddaeeffe",
   "metadata": {},
   "outputs": [],
   "source": [
    "data.funding_total_usd = data.funding_total_usd.str.replace('-','0')"
   ]
  },
  {
   "cell_type": "code",
   "execution_count": 70,
   "id": "856afeb7-f3be-4ded-bfb3-37152de47651",
   "metadata": {},
   "outputs": [],
   "source": [
    "data.funding_total_usd = pd.to_numeric(data.funding_total_usd)"
   ]
  },
  {
   "cell_type": "code",
   "execution_count": 71,
   "id": "0e368460-e1d5-4090-9da1-7306f817cf86",
   "metadata": {},
   "outputs": [
    {
     "data": {
      "text/plain": [
       "0.0          8531\n",
       "NaN          4856\n",
       "1000000.0     925\n",
       "500000.0      761\n",
       "100000.0      749\n",
       "             ... \n",
       "177404.0        1\n",
       "252052.0        1\n",
       "215563.0        1\n",
       "4975500.0       1\n",
       "3142406.0       1\n",
       "Name: funding_total_usd, Length: 14618, dtype: int64"
      ]
     },
     "execution_count": 71,
     "metadata": {},
     "output_type": "execute_result"
    }
   ],
   "source": [
    "data.funding_total_usd.value_counts(dropna=False)"
   ]
  },
  {
   "cell_type": "code",
   "execution_count": 75,
   "id": "822604b6-4436-4750-a384-895f825abe86",
   "metadata": {},
   "outputs": [
    {
     "data": {
      "text/plain": [
       "1.0     32039\n",
       "2.0      9219\n",
       "NaN      4856\n",
       "3.0      4026\n",
       "4.0      1997\n",
       "5.0      1001\n",
       "6.0       560\n",
       "7.0       252\n",
       "8.0       152\n",
       "9.0        84\n",
       "10.0       43\n",
       "11.0       35\n",
       "12.0       12\n",
       "13.0        8\n",
       "15.0        4\n",
       "14.0        4\n",
       "16.0        1\n",
       "18.0        1\n",
       "Name: funding_rounds, dtype: int64"
      ]
     },
     "execution_count": 75,
     "metadata": {},
     "output_type": "execute_result"
    }
   ],
   "source": [
    "data.funding_rounds.value_counts(dropna=False)"
   ]
  },
  {
   "cell_type": "code",
   "execution_count": 87,
   "id": "f8ecfd75-4e92-47fc-93d7-3df7865dd05f",
   "metadata": {},
   "outputs": [],
   "source": [
    "data = data.dropna(subset=['permalink'],axis=0)"
   ]
  },
  {
   "cell_type": "code",
   "execution_count": 92,
   "id": "e735a089-7a94-4110-9b0d-2447014e8cf4",
   "metadata": {},
   "outputs": [],
   "source": [
    "data = data.drop('state_code', axis=1)"
   ]
  },
  {
   "cell_type": "code",
   "execution_count": 95,
   "id": "ae890953-c11c-4b88-b029-195f6b212827",
   "metadata": {},
   "outputs": [
    {
     "data": {
      "text/plain": [
       "0        2012-06-30\n",
       "1        2010-06-04\n",
       "2        2012-08-09\n",
       "3        2011-04-01\n",
       "4        2014-08-17\n",
       "            ...    \n",
       "49433    2014-03-24\n",
       "49434    2012-04-01\n",
       "49435    2011-11-01\n",
       "49436    2011-11-21\n",
       "49437    2008-06-01\n",
       "Name: first_funding_at, Length: 49438, dtype: object"
      ]
     },
     "execution_count": 95,
     "metadata": {},
     "output_type": "execute_result"
    }
   ],
   "source": [
    "data['first_funding_at']"
   ]
  },
  {
   "cell_type": "code",
   "execution_count": null,
   "id": "d40c1075-ee3a-4f22-ba45-9266075eee57",
   "metadata": {},
   "outputs": [],
   "source": []
  }
 ],
 "metadata": {
  "kernelspec": {
   "display_name": "new_env",
   "language": "python",
   "name": "new_env"
  },
  "language_info": {
   "codemirror_mode": {
    "name": "ipython",
    "version": 3
   },
   "file_extension": ".py",
   "mimetype": "text/x-python",
   "name": "python",
   "nbconvert_exporter": "python",
   "pygments_lexer": "ipython3",
   "version": "3.9.18"
  }
 },
 "nbformat": 4,
 "nbformat_minor": 5
}
